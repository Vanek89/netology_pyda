{
 "cells": [
  {
   "cell_type": "code",
   "execution_count": 30,
   "metadata": {},
   "outputs": [
    {
     "name": "stdout",
     "output_type": "stream",
     "text": [
      "СДР (специальные права заимствования)\n"
     ]
    }
   ],
   "source": [
    "\n",
    "# Задание 1\n",
    "# Напишите функцию, которая возвращает название валюты (поле 'Name') с максимальным значением курса с помощью \n",
    "# сервиса https://www.cbr-xml-daily.ru/daily_json.js\n",
    "import requests\n",
    "\n",
    "def max_value():\n",
    "    max_value = 0\n",
    "    max_name = 0\n",
    "    r = requests.get('https://www.cbr-xml-daily.ru/daily_json.js')\n",
    "    for dicts in r.json()['Valute'].values():\n",
    "        nominal_1 = dicts['Value'] / dicts['Nominal']\n",
    "        if max_value < nominal_1:\n",
    "            max_value = nominal_1\n",
    "            max_name = dicts['Name']\n",
    "    print(max_name)\n",
    "    \n",
    "max_value()"
   ]
  },
  {
   "cell_type": "code",
   "execution_count": 132,
   "metadata": {
    "scrolled": true
   },
   "outputs": [
    {
     "data": {
      "text/plain": [
       "0.10540000000000305"
      ]
     },
     "execution_count": 132,
     "metadata": {},
     "output_type": "execute_result"
    }
   ],
   "source": [
    "from libs.exchange import Rate\n",
    "\n",
    "# Задание 2\n",
    "# Добавьте в класс Rate параметр diff (со значениями True или False), который в случае значения True \n",
    "# в методах eur и usd будет возвращать не курс валюты, а изменение по сравнению в прошлым значением. \n",
    "# Считайте, self.diff будет принимать значение True только при возврате значения курса. \n",
    "# При отображении всей информации о валюте он не используется.\n",
    "\n",
    "class Rate:\n",
    "    def __init__(self, diff = False, format_='value'):\n",
    "        self.diff = diff\n",
    "        self.format = format_\n",
    "    \n",
    "    \n",
    "    def exchange_rates(self):\n",
    "        \n",
    "        r = requests.get('https://www.cbr-xml-daily.ru/daily_json.js')\n",
    "        return r.json()['Valute']\n",
    "    \n",
    "    def make_format(self, currency):\n",
    "        \n",
    "        response = self.exchange_rates()\n",
    "        \n",
    "        if currency in response:\n",
    "            if self.diff == False:\n",
    "                return response[currency]['Value']\n",
    "            \n",
    "            if self.diff == False and self.format == 'full':\n",
    "                return response[currency]\n",
    "                                  \n",
    "            if self.format == 'value' and self.diff == True:\n",
    "                return response[currency]['Value'] - response[currency]['Previous']\n",
    "        \n",
    "        return 'Error'\n",
    "    \n",
    "    def eur(self):\n",
    "        \"\"\"Возвращает курс евро на сегодня в формате self.format\"\"\"\n",
    "        return self.make_format('EUR')\n",
    "    \n",
    "    def usd(self):\n",
    "        \"\"\"Возвращает курс доллара на сегодня в формате self.format\"\"\"\n",
    "        return self.make_format('USD')\n",
    "\n",
    "# class Rate:\n",
    "#     def __init__(self, diff, format_='value'):\n",
    "#         self.diff = diff \n",
    "\n",
    "Rate(True).usd()        \n",
    "        \n"
   ]
  },
  {
   "cell_type": "code",
   "execution_count": 112,
   "metadata": {},
   "outputs": [
    {
     "name": "stdout",
     "output_type": "stream",
     "text": [
      "Елена 3\n",
      "Елена 3\n",
      "Елена 3\n",
      "Елена 3\n",
      "Елена 4\n",
      "Елена 4\n",
      "Елена 4\n",
      "Елена 4\n",
      "Елена 4\n",
      "Елена 5\n",
      "Елена 5\n",
      "Елена 5\n",
      "Елена 5\n",
      "Елена 5\n",
      "Елена 6\n",
      "Елена 6\n",
      "Елена 6\n",
      "Елена 6\n",
      "Елена 6\n",
      "Елена 7\n"
     ]
    }
   ],
   "source": [
    "# Задание 3\n",
    "# Напишите класс Designer, который учитывает количество международных премий. \n",
    "# Подсказки в коде занятия в разделе \"Домашнее задание задача 3\".\n",
    "\n",
    "class Designer():\n",
    "    def __init__(self, name, seniority, awards):\n",
    "        self.name = name\n",
    "        self.seniority = seniority\n",
    "        \n",
    "        self.grade = 1 + awards\n",
    "    \n",
    "    def grade_up(self):\n",
    "        \"\"\"Повышает уровень сотрудника\"\"\"\n",
    "        self.grade += 1\n",
    "    \n",
    "    def publish_grade(self):\n",
    "        \"\"\"Публикация результатов аккредитации сотрудников\"\"\"\n",
    "        print(self.name, self.grade)\n",
    "    \n",
    "    def check_if_it_is_time_for_upgrade(self):\n",
    "        # для каждой аккредитации увеличиваем счетчик на 1\n",
    "        # пока считаем, что все дизайнеры проходят аккредитацию\n",
    "        self.seniority += 1\n",
    "        \n",
    "        # условие повышения сотрудника из презентации\n",
    "        if self.seniority % 5 == 0:\n",
    "            self.grade_up()\n",
    "        \n",
    "        # публикация результатов\n",
    "        return self.publish_grade()    \n",
    "\n",
    "elena = Designer('Елена', seniority=0, awards=2)\n",
    "\n",
    "for i in range(20):\n",
    "    elena.check_if_it_is_time_for_upgrade()"
   ]
  }
 ],
 "metadata": {
  "kernelspec": {
   "display_name": "Python 3",
   "language": "python",
   "name": "python3"
  },
  "language_info": {
   "codemirror_mode": {
    "name": "ipython",
    "version": 3
   },
   "file_extension": ".py",
   "mimetype": "text/x-python",
   "name": "python",
   "nbconvert_exporter": "python",
   "pygments_lexer": "ipython3",
   "version": "3.7.3"
  }
 },
 "nbformat": 4,
 "nbformat_minor": 2
}
