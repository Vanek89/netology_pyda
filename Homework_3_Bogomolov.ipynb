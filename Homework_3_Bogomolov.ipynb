{
 "cells": [
  {
   "cell_type": "markdown",
   "metadata": {},
   "source": [
    "## Задание 1"
   ]
  },
  {
   "cell_type": "markdown",
   "metadata": {},
   "source": [
    "Дан список вида:"
   ]
  },
  {
   "cell_type": "code",
   "execution_count": 1,
   "metadata": {},
   "outputs": [
    {
     "data": {
      "text/plain": [
       "103"
      ]
     },
     "execution_count": 1,
     "metadata": {},
     "output_type": "execute_result"
    }
   ],
   "source": [
    "data = [\n",
    "    [13, 25, 23, 34],\n",
    "    [45, 32, 44, 47],\n",
    "    [12, 33, 23, 95],\n",
    "    [13, 53, 34, 35]\n",
    "]\n",
    "\n",
    "def diagonal_sum(list_of_lists):\n",
    "    result = 0\n",
    "    for n in list(range(len(list_of_lists))):\n",
    "        result += list_of_lists[n][n]\n",
    "    return result\n",
    "diagonal_sum(data)"
   ]
  },
  {
   "cell_type": "markdown",
   "metadata": {},
   "source": [
    "Напишите функцию, которая возвращает сумму элементов на диагонали. Т. е. 13+32+23+35."
   ]
  },
  {
   "cell_type": "markdown",
   "metadata": {},
   "source": [
    "## Задание 2"
   ]
  },
  {
   "cell_type": "markdown",
   "metadata": {},
   "source": [
    "Дан список чисел, часть из которых имеют строковый тип или содержат буквы. Напишите функцию, которая возвращает сумму квадратов элементов, которые могут быть числами."
   ]
  },
  {
   "cell_type": "code",
   "execution_count": 2,
   "metadata": {},
   "outputs": [
    {
     "name": "stdout",
     "output_type": "stream",
     "text": [
      "430\n"
     ]
    }
   ],
   "source": [
    "data = [1, '5', 'abc', 20, '2']\n",
    "\n",
    "# def int_value(value):\n",
    "    \n",
    "\n",
    "def sum_of_squares(line):\n",
    "    new_line = []\n",
    "    for values in data:\n",
    "        if type(values) == int:\n",
    "            result = values**2\n",
    "            new_line.append(result)\n",
    "        elif values.isnumeric() == True:\n",
    "            int_value = int(values)\n",
    "            result = int_value**2\n",
    "            new_line.append(result)\n",
    "        else:\n",
    "            pass\n",
    "    print(sum(new_line))\n",
    "                \n",
    "sum_of_squares(data)"
   ]
  },
  {
   "cell_type": "markdown",
   "metadata": {},
   "source": [
    "## Задание 3"
   ]
  },
  {
   "cell_type": "markdown",
   "metadata": {},
   "source": [
    "Напишите функцию, возвращающую сумму первых n чисел Фибоначчи."
   ]
  },
  {
   "cell_type": "code",
   "execution_count": null,
   "metadata": {},
   "outputs": [],
   "source": []
  },
  {
   "cell_type": "markdown",
   "metadata": {},
   "source": [
    "## Задание 4"
   ]
  },
  {
   "cell_type": "markdown",
   "metadata": {},
   "source": [
    "Дан набор данных об обучении студентов на курсе программирования, который содержит: \n",
    "1) имя\n",
    "2) фамилию \n",
    "3) пол \n",
    "4) наличие у студента опыта в программировании \n",
    "5) набор оценок за домашние работы \n",
    "6) оценку за итоговую работу.\n",
    "\n",
    "Напишите программу, которая будет принимать команду от пользователя и возвращать соотвествующий результат.\n",
    "Список команд: \n",
    "1 - вывести на экран среднюю оценку за все ДЗ по группе и вывести на экран среднюю оценку за экзамен по группе;\n",
    "2 - вывести среднюю оценку за ДЗ и за экзамен по группе в разрезе пола студентов\n",
    "3 - вывести среднюю оценку за ДЗ и за экзамен в разрезе наличия опыта в программировании у студентов.\n",
    "\n",
    "Прогрмма должна быть полностью декомпозирована на функции (кроме объявления функций и вызова итоговой функции в реализации ничего быть не должно)."
   ]
  },
  {
   "cell_type": "code",
   "execution_count": 2,
   "metadata": {},
   "outputs": [],
   "source": [
    "students_list = [\n",
    "    {'name': 'Василий', 'surname': 'Теркин', 'sex': 'м', 'program_exp': True, 'grade': [8, 8, 9, 10, 9], 'exam': 9},\n",
    "    {'name': 'Мария', 'surname': 'Павлова', 'sex': 'ж', 'program_exp': True, 'grade': [7, 8, 9, 7, 9], 'exam': 8},\n",
    "    {'name': 'Ирина', 'surname': 'Андреева', 'sex': 'ж', 'program_exp': True, 'grade': [10, 9, 8, 10, 10], 'exam': 10},\n",
    "    {'name': 'Татьяна', 'surname': 'Сидорова', 'sex': 'ж', 'program_exp': True, 'grade': [7, 8, 8, 9, 8], 'exam': 8},\n",
    "    {'name': 'Иван', 'surname': 'Васильев', 'sex': 'ж', 'program_exp': True, 'grade': [9, 8, 9, 6, 9], 'exam': 10},\n",
    "    {'name': 'Роман', 'surname': 'Золотарев', 'sex': 'ж', 'program_exp': False, 'grade': [8, 9, 9, 6, 9], 'exam': 10}\n",
    "]"
   ]
  },
  {
   "cell_type": "code",
   "execution_count": 5,
   "metadata": {},
   "outputs": [
    {
     "name": "stdout",
     "output_type": "stream",
     "text": [
      "Введите номер команды: 3\n",
      "Студенты с опытом программирования\n",
      "Средняя оценка завсе ДЗ по группе = 8.80\n",
      "Студенты без опыта программирования\n",
      "Средняя оценка завсе ДЗ по группе = 8.20\n",
      "Студенты с опытом программирования\n",
      "Средняя оценка за экзамен по группе = 9.00\n",
      "Студенты без опыта программирования\n",
      "Средняя оценка за экзамен по группе = 10.00\n"
     ]
    }
   ],
   "source": [
    "## 1 - вывести на экран среднюю оценку за все ДЗ по группе и вывести на экран среднюю оценку за экзамен по группе\n",
    "\n",
    "def avg_grade(line):\n",
    "    new_line = []\n",
    "    for dicts in line:\n",
    "        new_line.append(sum(dicts['grade']))\n",
    "    avg_group_grade = sum(new_line)/(len(dicts['grade'])*len(line))\n",
    "    print('Средняя оценка завсе ДЗ по группе = {:.2f}'.format(avg_group_grade))\n",
    "\n",
    "def avg_exam(line):\n",
    "    new_line = []\n",
    "    for dicts in line:\n",
    "        new_line.append(dicts['exam'])\n",
    "    avg_group_exam = sum(new_line)/len(new_line)\n",
    "    print('Средняя оценка за экзамен по группе = {:.2f}'.format(avg_group_exam))\n",
    "\n",
    "# 2 - вывести среднюю оценку за ДЗ и за экзамен по группе в разрезе пола студентов \n",
    "def sex_m(line):\n",
    "    new_line_m = []\n",
    "    for dicts in line:\n",
    "        if 'м' in dicts['sex']:\n",
    "            new_line_m.append(dicts)\n",
    "            return new_line_m \n",
    "\n",
    "def sex_f(line):\n",
    "    new_line_f = []\n",
    "    for dicts in line:\n",
    "        if 'ж' in dicts['sex']:\n",
    "            new_line_f.append(dicts)\n",
    "            return new_line_f\n",
    "        \n",
    "\n",
    "# 3 - вывести среднюю оценку за ДЗ и за экзамен в разрезе наличия опыта в программировании у студентов\n",
    "\n",
    "def exp_yes(line):\n",
    "    line_yes = []\n",
    "    for dicts in line:\n",
    "        if 'True' in str(dicts['program_exp']):\n",
    "            line_yes.append(dicts)\n",
    "            return line_yes\n",
    "                \n",
    "def exp_none(line):\n",
    "    line_none = []\n",
    "    for dicts in line:\n",
    "        if 'False' in str(dicts['program_exp']):\n",
    "            line_none.append(dicts)\n",
    "            return line_none\n",
    "            \n",
    "\n",
    "# Функция вызова функций:\n",
    "\n",
    "def full_programm():\n",
    "    instruction = input('Введите номер команды: ')\n",
    "    if instruction == '1':\n",
    "        avg_grade(students_list)\n",
    "        avg_exam(students_list)\n",
    "    elif instruction == '2':\n",
    "        print('У мужчин')\n",
    "        avg_grade(sex_m(students_list))\n",
    "        print('У женщин')\n",
    "        avg_grade(sex_f(students_list))\n",
    "        print('У мужчин')\n",
    "        avg_exam(sex_m(students_list))\n",
    "        print('У женщин')\n",
    "        avg_exam(sex_f(students_list))\n",
    "    elif instruction == '3':\n",
    "        print('Студенты с опытом программирования')           \n",
    "        avg_grade(exp_yes(students_list))\n",
    "        print('Студенты без опыта программирования')\n",
    "        avg_grade(exp_none(students_list))\n",
    "        print('Студенты с опытом программирования')\n",
    "        avg_exam(exp_yes(students_list))\n",
    "        print('Студенты без опыта программирования')\n",
    "        avg_exam(exp_none(students_list))\n",
    "        \n",
    "# Вызов алгоритма:\n",
    "\n",
    "full_programm()"
   ]
  }
 ],
 "metadata": {
  "kernelspec": {
   "display_name": "Python 3",
   "language": "python",
   "name": "python3"
  },
  "language_info": {
   "codemirror_mode": {
    "name": "ipython",
    "version": 3
   },
   "file_extension": ".py",
   "mimetype": "text/x-python",
   "name": "python",
   "nbconvert_exporter": "python",
   "pygments_lexer": "ipython3",
   "version": "3.7.3"
  }
 },
 "nbformat": 4,
 "nbformat_minor": 2
}
