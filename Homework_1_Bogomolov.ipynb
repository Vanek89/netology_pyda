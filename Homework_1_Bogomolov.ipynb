{
 "cells": [
  {
   "cell_type": "markdown",
   "metadata": {},
   "source": [
    "**Задание 1**. Даны 2 строки: *long_phrase* и *short_phrase*. \n",
    "Напишите код, который проверяет действительно ли длинная фраза *long_phrase* длиннее короткой *short_phrase*. И выводит *True* или *False* в зависимости от результата сравнения."
   ]
  },
  {
   "cell_type": "code",
   "execution_count": 5,
   "metadata": {},
   "outputs": [],
   "source": [
    "long_phrase = 'Насколько проще было бы писать программы, если бы не заказчики'\n",
    "short_phrase = '640Кб должно хватить для любых задач. Билл Гейтс (по легенде)'"
   ]
  },
  {
   "cell_type": "code",
   "execution_count": 7,
   "metadata": {},
   "outputs": [
    {
     "data": {
      "text/plain": [
       "True"
      ]
     },
     "execution_count": 7,
     "metadata": {},
     "output_type": "execute_result"
    }
   ],
   "source": [
    "len(long_phrase) > len(short_phrase)  "
   ]
  },
  {
   "cell_type": "markdown",
   "metadata": {},
   "source": [
    "**Задание 2**. Дано значение объема файла в байтах. Напишите перевод этого значения в мегабайты в формате: \"*Объем файла равен 213.68Mb*\""
   ]
  },
  {
   "cell_type": "code",
   "execution_count": 15,
   "metadata": {},
   "outputs": [
    {
     "name": "stdout",
     "output_type": "stream",
     "text": [
      "Объем файла равен 43.54Mb\n"
     ]
    }
   ],
   "source": [
    "file_size_in_byte = 45651265\n",
    "file_size_in_mbyte = file_size_in_byte / 1048576\n",
    "print(\"Объем файла равен {:.2f}Mb\".format(file_size_in_mbyte))"
   ]
  },
  {
   "cell_type": "markdown",
   "metadata": {},
   "source": [
    "**Задание 3**. Разработать приложение для определения знака зодиака по дате рождения. Пример:\n",
    "\n",
    "Введите месяц: март\n",
    "\n",
    "Введите число: 6\n",
    "\n",
    "Вывод:\n",
    "Рыбы"
   ]
  },
  {
   "cell_type": "code",
   "execution_count": 4,
   "metadata": {},
   "outputs": [
    {
     "name": "stdout",
     "output_type": "stream",
     "text": [
      "Введите число: 16\n",
      "Введите месяц: апрель\n",
      "Овен\n"
     ]
    }
   ],
   "source": [
    "day = int(input(\"Введите число: \"))\n",
    "month = input(\"Введите месяц: \")\n",
    "\n",
    "if day > 20 and month == \"январь\" or day < 19 and month == \"февраль\":\n",
    "    print(\"Козерог\")\n",
    "elif day > 20 and month == \"февраль\" or day < 20 and month == \"март\":\n",
    "    print(\"Рыбы\")\n",
    "elif day > 21 and month == \"март\" or day < 19 and month == \"апрель\":\n",
    "    print(\"Овен\")\n",
    "elif day > 20 and month == \"апрель\" or day < 20 and month == \"май\":\n",
    "    print(\"Телец\")    \n",
    "elif day > 21 and month == \"май\" or day < 20 and month == \"июнь\":\n",
    "    print(\"Близнецы\")\n",
    "elif day > 21 and month == \"июнь\" or day < 22 and month == \"июль\":\n",
    "    print(\"Рак\")\n",
    "elif day > 23 and month == \"июль\" or day < 22 and month == \"август\":\n",
    "    print(\"Лев\")\n",
    "elif day > 23 and month == \"август\" or day < 22 and month == \"сентябрь\":\n",
    "    print(\"Дева\")\n",
    "elif day > 23 and month == \"сентябрь\" or day < 23 and month == \"октябрь\":\n",
    "    print(\"Весы\")\n",
    "elif day > 24 and month == \"октябрь\" or day < 23 and month == \"ноябрь\":\n",
    "    print(\"Скорпион\")\n",
    "elif day > 23 and month == \"ноябрь\" or day < 21 and month == \"декабрь\":\n",
    "    print(\"Стрелец\")\n",
    "elif day > 21 and month == \"декабрь\" or day < 19 and month == \"январь\":\n",
    "    print(\"Козерог\")"
   ]
  },
  {
   "cell_type": "markdown",
   "metadata": {},
   "source": [
    "**Задание 4**. Нужно разработать приложение для финансового планирования.\n",
    "Приложение учитывает сколько уходит на ипотеку, \"на жизнь\" и сколько нужно отложить на пенсию.\n",
    "Пользователь вводит:\n",
    "- заработанную плату в месяц.\n",
    "- сколько процентов от ЗП уходит на ипотеку.\n",
    "- сколько процентов от ЗП уходит \"на жизнь\".\n",
    "- сколько раз приходит премия в год.\n",
    "\n",
    "Остальная часть заработанной платы откладывается на пенсию.\n",
    "\n",
    "Также пользователю приходит премия в размере зарплаты, от которой половина уходит на отпуск, а вторая половина откладывается.\n",
    "\n",
    "Программа должна учитывать сколько премий было в год.\n",
    "\n",
    "Нужно вывести сколько денег тратит пользователь на ипотеку и сколько он накопит за год.\n",
    "\n",
    "Пример:\n",
    "\n",
    "Введите заработанную плату в месяц: 100000\n",
    "\n",
    "Введите сколько процентов уходит на ипотеку: 30\n",
    "\n",
    "Введите сколько процентов уходит на жизнь: 50\n",
    "\n",
    "Введите количество премий за год: 2\n",
    "\n",
    "Вывод:\n",
    "На ипотеку было потрачено: 360000 рублей\n",
    "Было накоплено: 340000 рублей"
   ]
  },
  {
   "cell_type": "code",
   "execution_count": 7,
   "metadata": {},
   "outputs": [
    {
     "name": "stdout",
     "output_type": "stream",
     "text": [
      "Введите заработную плату: 100000\n",
      "Сколько процентов от ЗП уходит на ипотеку: 30\n",
      "Сколько процентов от ЗП уходит 'на жизнь': 50\n",
      "Сколько раз приходит премия в год: 2\n",
      "На ипотеку было потрачено: 360000 рублей. Было накоплено: 340000\n"
     ]
    }
   ],
   "source": [
    "salary = int(input(\"Введите заработную плату: \"))\n",
    "ipoteka_pcnt = int(input(\"Сколько процентов от ЗП уходит на ипотеку: \"))\n",
    "for_life_pcnt = int(input(\"Сколько процентов от ЗП уходит 'на жизнь': \"))\n",
    "award_no = int(input(\"Сколько раз приходит премия в год: \"))\n",
    "\n",
    "ipoteka_in_month = salary * ipoteka_pcnt / 100\n",
    "ipoteka_in_year = ipoteka_in_month * 12\n",
    "for_life = salary * for_life_pcnt / 100\n",
    "for_retire_in_month = salary - ipoteka_in_month - for_life\n",
    "for_retire_in_year = for_retire_in_month * 12 + salary / 2 * award_no\n",
    "print(\"На ипотеку было потрачено: {:.0f}\".format(ipoteka_in_year),\"рублей. Было накоплено: {:.0f}\".format(for_retire_in_year))\n"
   ]
  }
 ],
 "metadata": {
  "kernelspec": {
   "display_name": "Python 3",
   "language": "python",
   "name": "python3"
  },
  "language_info": {
   "codemirror_mode": {
    "name": "ipython",
    "version": 3
   },
   "file_extension": ".py",
   "mimetype": "text/x-python",
   "name": "python",
   "nbconvert_exporter": "python",
   "pygments_lexer": "ipython3",
   "version": "3.7.3"
  }
 },
 "nbformat": 4,
 "nbformat_minor": 2
}
